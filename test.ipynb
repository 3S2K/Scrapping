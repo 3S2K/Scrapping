{
 "cells": [
  {
   "cell_type": "code",
   "id": "initial_id",
   "metadata": {
    "collapsed": true,
    "ExecuteTime": {
     "end_time": "2024-11-14T12:02:07.662160Z",
     "start_time": "2024-11-14T12:02:07.487539Z"
    }
   },
   "source": [
    "from selenium import webdriver\n",
    "from selenium.webdriver.common.by import By\n",
    "import time\n",
    "from info import urls\n",
    "from selenium.webdriver.edge.service import Service"
   ],
   "outputs": [],
   "execution_count": 1
  },
  {
   "metadata": {
    "ExecuteTime": {
     "end_time": "2024-11-14T12:02:30.331102Z",
     "start_time": "2024-11-14T12:02:28.064556Z"
    }
   },
   "cell_type": "code",
   "source": "driver = webdriver.Edge()",
   "id": "3a51cad68f668d2c",
   "outputs": [],
   "execution_count": 2
  },
  {
   "metadata": {
    "ExecuteTime": {
     "end_time": "2024-11-14T12:02:55.356258Z",
     "start_time": "2024-11-14T12:02:50.182695Z"
    }
   },
   "cell_type": "code",
   "source": [
    "url = urls[\"썰송이\"]\n",
    "driver.get(url)"
   ],
   "id": "da32733c40603b80",
   "outputs": [],
   "execution_count": 3
  },
  {
   "metadata": {
    "ExecuteTime": {
     "end_time": "2024-11-14T08:18:46.404052Z",
     "start_time": "2024-11-14T08:18:46.346018Z"
    }
   },
   "cell_type": "code",
   "source": "element = driver.find_element(By.CSS_SELECTOR, 'a[href^=\"/shorts\"]:nth-child(1)')",
   "id": "f6ba34aebd55dc7a",
   "outputs": [],
   "execution_count": 100
  },
  {
   "metadata": {
    "ExecuteTime": {
     "end_time": "2024-11-14T08:18:52.854659Z",
     "start_time": "2024-11-14T08:18:52.739136Z"
    }
   },
   "cell_type": "code",
   "source": "element.click()",
   "id": "26b7dae0b7f6455d",
   "outputs": [],
   "execution_count": 101
  },
  {
   "metadata": {
    "ExecuteTime": {
     "end_time": "2024-11-14T08:18:54.541869Z",
     "start_time": "2024-11-14T08:18:54.482826Z"
    }
   },
   "cell_type": "code",
   "source": "next_button = driver.find_element(By.ID,\"navigation-button-down\")",
   "id": "11781524f79efa19",
   "outputs": [],
   "execution_count": 102
  },
  {
   "metadata": {
    "ExecuteTime": {
     "end_time": "2024-11-14T08:18:54.951566Z",
     "start_time": "2024-11-14T08:18:54.947905Z"
    }
   },
   "cell_type": "code",
   "source": "short_urls = {}",
   "id": "a742d141d9c587a6",
   "outputs": [],
   "execution_count": 103
  },
  {
   "metadata": {
    "ExecuteTime": {
     "end_time": "2024-11-14T08:19:45.843879Z",
     "start_time": "2024-11-14T08:19:04.665228Z"
    }
   },
   "cell_type": "code",
   "source": [
    "for num in range(10):\n",
    "    current_url = driver.current_url\n",
    "    title = driver.find_element(By.TAG_NAME, \"yt-shorts-video-title-view-model\").text\n",
    "    short_urls[title] = current_url\n",
    "    next_button.click()\n",
    "    time.sleep(4)"
   ],
   "id": "bed30c4549e80dbc",
   "outputs": [],
   "execution_count": 105
  },
  {
   "metadata": {
    "ExecuteTime": {
     "end_time": "2024-11-14T08:19:54.403848Z",
     "start_time": "2024-11-14T08:19:54.394169Z"
    }
   },
   "cell_type": "code",
   "source": "short_urls",
   "id": "ca5789f4b0ab63ee",
   "outputs": [
    {
     "data": {
      "text/plain": [
       "{'오늘은 내가 짜파게티 요리사': 'https://www.youtube.com/shorts/80XXBiF2DQg',\n",
       " '여친 만났으니 됐어': 'https://www.youtube.com/shorts/2hRAcR2oTXQ',\n",
       " '여친을 빼앗겨버렸다': 'https://www.youtube.com/shorts/sTUCOznjOAI',\n",
       " '자기야 오해하지마': 'https://www.youtube.com/shorts/yvR5JtDcAbg',\n",
       " '프로포즈는 서프라이즈': 'https://www.youtube.com/shorts/tLfeEMBtJ6g',\n",
       " '영화관 데이트의 짜릿함': 'https://www.youtube.com/shorts/q_8zeSoE8UA',\n",
       " '나는요 오빠가 좋은걸': 'https://www.youtube.com/shorts/7gX78lh58Ck'}"
      ]
     },
     "execution_count": 106,
     "metadata": {},
     "output_type": "execute_result"
    }
   ],
   "execution_count": 106
  },
  {
   "metadata": {},
   "cell_type": "code",
   "outputs": [],
   "execution_count": null,
   "source": "",
   "id": "af3fa2e440ec0028"
  }
 ],
 "metadata": {
  "kernelspec": {
   "display_name": "Python 3",
   "language": "python",
   "name": "python3"
  },
  "language_info": {
   "codemirror_mode": {
    "name": "ipython",
    "version": 2
   },
   "file_extension": ".py",
   "mimetype": "text/x-python",
   "name": "python",
   "nbconvert_exporter": "python",
   "pygments_lexer": "ipython2",
   "version": "2.7.6"
  }
 },
 "nbformat": 4,
 "nbformat_minor": 5
}
